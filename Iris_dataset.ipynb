{
  "nbformat": 4,
  "nbformat_minor": 0,
  "metadata": {
    "kernelspec": {
      "display_name": "Python 3",
      "language": "python",
      "name": "python3"
    },
    "language_info": {
      "codemirror_mode": {
        "name": "ipython",
        "version": 3
      },
      "file_extension": ".py",
      "mimetype": "text/x-python",
      "name": "python",
      "nbconvert_exporter": "python",
      "pygments_lexer": "ipython3",
      "version": "3.7.1"
    },
    "colab": {
      "name": "Iris_dataset.ipynb",
      "provenance": [],
      "collapsed_sections": [
        "h6UDXh4qLNjM",
        "x5vwL7RALNjb",
        "HIYAA6NMLNjr",
        "_pJWcd9tLNkK",
        "QLEC8zHDLNkK",
        "MfapzI7xLNka",
        "PwI3GlumLNka",
        "OF5IIGX0LNka",
        "Rv_yW9BvLNka",
        "8gmkdk6tLNka",
        "UEnhdtnNLNkp",
        "-u6P6_UhLNk5"
      ]
    }
  },
  "cells": [
    {
      "cell_type": "markdown",
      "metadata": {
        "id": "5jbUcx20LNhC",
        "colab_type": "text"
      },
      "source": [
        "## BASIC IMPORTS"
      ]
    },
    {
      "cell_type": "code",
      "metadata": {
        "id": "sVqIc0FgLNhC",
        "colab_type": "code",
        "colab": {}
      },
      "source": [
        "import pandas as pd\n",
        "import numpy as np\n",
        "import matplotlib.pyplot as plt\n",
        "import seaborn as sns\n",
        "import warnings\n",
        "from sklearn.preprocessing import LabelEncoder\n",
        "from sklearn.model_selection import train_test_split\n",
        "from sklearn.decomposition import PCA\n",
        "from sklearn.preprocessing import MinMaxScaler\n",
        "from sklearn.linear_model import LogisticRegression \n",
        "from sklearn.neighbors import KNeighborsClassifier\n",
        "from sklearn.tree import DecisionTreeClassifier\n",
        "from sklearn.svm import SVC\n",
        "\n",
        "warnings.filterwarnings('ignore')"
      ],
      "execution_count": 0,
      "outputs": []
    },
    {
      "cell_type": "code",
      "metadata": {
        "id": "gHJKSF9YLNhC",
        "colab_type": "code",
        "outputId": "dbeb5459-c522-40a8-a807-abd427e905c7",
        "colab": {}
      },
      "source": [
        "df=pd.read_csv('Iris.csv')\n",
        "df.head()"
      ],
      "execution_count": 0,
      "outputs": [
        {
          "output_type": "execute_result",
          "data": {
            "text/html": [
              "<div>\n",
              "<style scoped>\n",
              "    .dataframe tbody tr th:only-of-type {\n",
              "        vertical-align: middle;\n",
              "    }\n",
              "\n",
              "    .dataframe tbody tr th {\n",
              "        vertical-align: top;\n",
              "    }\n",
              "\n",
              "    .dataframe thead th {\n",
              "        text-align: right;\n",
              "    }\n",
              "</style>\n",
              "<table border=\"1\" class=\"dataframe\">\n",
              "  <thead>\n",
              "    <tr style=\"text-align: right;\">\n",
              "      <th></th>\n",
              "      <th>Id</th>\n",
              "      <th>SepalLengthCm</th>\n",
              "      <th>SepalWidthCm</th>\n",
              "      <th>PetalLengthCm</th>\n",
              "      <th>PetalWidthCm</th>\n",
              "      <th>Species</th>\n",
              "    </tr>\n",
              "  </thead>\n",
              "  <tbody>\n",
              "    <tr>\n",
              "      <th>0</th>\n",
              "      <td>1</td>\n",
              "      <td>5.1</td>\n",
              "      <td>3.5</td>\n",
              "      <td>1.4</td>\n",
              "      <td>0.2</td>\n",
              "      <td>Iris-setosa</td>\n",
              "    </tr>\n",
              "    <tr>\n",
              "      <th>1</th>\n",
              "      <td>2</td>\n",
              "      <td>4.9</td>\n",
              "      <td>3.0</td>\n",
              "      <td>1.4</td>\n",
              "      <td>0.2</td>\n",
              "      <td>Iris-setosa</td>\n",
              "    </tr>\n",
              "    <tr>\n",
              "      <th>2</th>\n",
              "      <td>3</td>\n",
              "      <td>4.7</td>\n",
              "      <td>3.2</td>\n",
              "      <td>1.3</td>\n",
              "      <td>0.2</td>\n",
              "      <td>Iris-setosa</td>\n",
              "    </tr>\n",
              "    <tr>\n",
              "      <th>3</th>\n",
              "      <td>4</td>\n",
              "      <td>4.6</td>\n",
              "      <td>3.1</td>\n",
              "      <td>1.5</td>\n",
              "      <td>0.2</td>\n",
              "      <td>Iris-setosa</td>\n",
              "    </tr>\n",
              "    <tr>\n",
              "      <th>4</th>\n",
              "      <td>5</td>\n",
              "      <td>5.0</td>\n",
              "      <td>3.6</td>\n",
              "      <td>1.4</td>\n",
              "      <td>0.2</td>\n",
              "      <td>Iris-setosa</td>\n",
              "    </tr>\n",
              "  </tbody>\n",
              "</table>\n",
              "</div>"
            ],
            "text/plain": [
              "   Id  SepalLengthCm  SepalWidthCm  PetalLengthCm  PetalWidthCm      Species\n",
              "0   1            5.1           3.5            1.4           0.2  Iris-setosa\n",
              "1   2            4.9           3.0            1.4           0.2  Iris-setosa\n",
              "2   3            4.7           3.2            1.3           0.2  Iris-setosa\n",
              "3   4            4.6           3.1            1.5           0.2  Iris-setosa\n",
              "4   5            5.0           3.6            1.4           0.2  Iris-setosa"
            ]
          },
          "metadata": {
            "tags": []
          },
          "execution_count": 3
        }
      ]
    },
    {
      "cell_type": "code",
      "metadata": {
        "id": "IwNYjHJ9LNhS",
        "colab_type": "code",
        "outputId": "e7f2a074-320e-4305-c6a8-7253bc9b3066",
        "colab": {}
      },
      "source": [
        "df.info()"
      ],
      "execution_count": 0,
      "outputs": [
        {
          "output_type": "stream",
          "text": [
            "<class 'pandas.core.frame.DataFrame'>\n",
            "RangeIndex: 150 entries, 0 to 149\n",
            "Data columns (total 6 columns):\n",
            "Id               150 non-null int64\n",
            "SepalLengthCm    150 non-null float64\n",
            "SepalWidthCm     150 non-null float64\n",
            "PetalLengthCm    150 non-null float64\n",
            "PetalWidthCm     150 non-null float64\n",
            "Species          150 non-null object\n",
            "dtypes: float64(4), int64(1), object(1)\n",
            "memory usage: 7.1+ KB\n"
          ],
          "name": "stdout"
        }
      ]
    },
    {
      "cell_type": "code",
      "metadata": {
        "id": "aACZrDVTLNhh",
        "colab_type": "code",
        "outputId": "8321325d-56de-4fe0-e3f4-428e47d27be0",
        "colab": {}
      },
      "source": [
        "df.describe().T"
      ],
      "execution_count": 0,
      "outputs": [
        {
          "output_type": "execute_result",
          "data": {
            "text/html": [
              "<div>\n",
              "<style scoped>\n",
              "    .dataframe tbody tr th:only-of-type {\n",
              "        vertical-align: middle;\n",
              "    }\n",
              "\n",
              "    .dataframe tbody tr th {\n",
              "        vertical-align: top;\n",
              "    }\n",
              "\n",
              "    .dataframe thead th {\n",
              "        text-align: right;\n",
              "    }\n",
              "</style>\n",
              "<table border=\"1\" class=\"dataframe\">\n",
              "  <thead>\n",
              "    <tr style=\"text-align: right;\">\n",
              "      <th></th>\n",
              "      <th>count</th>\n",
              "      <th>mean</th>\n",
              "      <th>std</th>\n",
              "      <th>min</th>\n",
              "      <th>25%</th>\n",
              "      <th>50%</th>\n",
              "      <th>75%</th>\n",
              "      <th>max</th>\n",
              "    </tr>\n",
              "  </thead>\n",
              "  <tbody>\n",
              "    <tr>\n",
              "      <th>Id</th>\n",
              "      <td>150.0</td>\n",
              "      <td>75.500000</td>\n",
              "      <td>43.445368</td>\n",
              "      <td>1.0</td>\n",
              "      <td>38.25</td>\n",
              "      <td>75.50</td>\n",
              "      <td>112.75</td>\n",
              "      <td>150.0</td>\n",
              "    </tr>\n",
              "    <tr>\n",
              "      <th>SepalLengthCm</th>\n",
              "      <td>150.0</td>\n",
              "      <td>5.843333</td>\n",
              "      <td>0.828066</td>\n",
              "      <td>4.3</td>\n",
              "      <td>5.10</td>\n",
              "      <td>5.80</td>\n",
              "      <td>6.40</td>\n",
              "      <td>7.9</td>\n",
              "    </tr>\n",
              "    <tr>\n",
              "      <th>SepalWidthCm</th>\n",
              "      <td>150.0</td>\n",
              "      <td>3.054000</td>\n",
              "      <td>0.433594</td>\n",
              "      <td>2.0</td>\n",
              "      <td>2.80</td>\n",
              "      <td>3.00</td>\n",
              "      <td>3.30</td>\n",
              "      <td>4.4</td>\n",
              "    </tr>\n",
              "    <tr>\n",
              "      <th>PetalLengthCm</th>\n",
              "      <td>150.0</td>\n",
              "      <td>3.758667</td>\n",
              "      <td>1.764420</td>\n",
              "      <td>1.0</td>\n",
              "      <td>1.60</td>\n",
              "      <td>4.35</td>\n",
              "      <td>5.10</td>\n",
              "      <td>6.9</td>\n",
              "    </tr>\n",
              "    <tr>\n",
              "      <th>PetalWidthCm</th>\n",
              "      <td>150.0</td>\n",
              "      <td>1.198667</td>\n",
              "      <td>0.763161</td>\n",
              "      <td>0.1</td>\n",
              "      <td>0.30</td>\n",
              "      <td>1.30</td>\n",
              "      <td>1.80</td>\n",
              "      <td>2.5</td>\n",
              "    </tr>\n",
              "  </tbody>\n",
              "</table>\n",
              "</div>"
            ],
            "text/plain": [
              "               count       mean        std  min    25%    50%     75%    max\n",
              "Id             150.0  75.500000  43.445368  1.0  38.25  75.50  112.75  150.0\n",
              "SepalLengthCm  150.0   5.843333   0.828066  4.3   5.10   5.80    6.40    7.9\n",
              "SepalWidthCm   150.0   3.054000   0.433594  2.0   2.80   3.00    3.30    4.4\n",
              "PetalLengthCm  150.0   3.758667   1.764420  1.0   1.60   4.35    5.10    6.9\n",
              "PetalWidthCm   150.0   1.198667   0.763161  0.1   0.30   1.30    1.80    2.5"
            ]
          },
          "metadata": {
            "tags": []
          },
          "execution_count": 5
        }
      ]
    },
    {
      "cell_type": "code",
      "metadata": {
        "id": "30zdrdFvLNhx",
        "colab_type": "code",
        "outputId": "65e6b3d9-e257-4fca-90e1-97a3fc391bda",
        "colab": {}
      },
      "source": [
        "df.shape"
      ],
      "execution_count": 0,
      "outputs": [
        {
          "output_type": "execute_result",
          "data": {
            "text/plain": [
              "(150, 6)"
            ]
          },
          "metadata": {
            "tags": []
          },
          "execution_count": 6
        }
      ]
    },
    {
      "cell_type": "code",
      "metadata": {
        "id": "UGvnQXZmLNiA",
        "colab_type": "code",
        "outputId": "00054f14-0f2b-436a-ffdc-d1b81aeb4375",
        "colab": {}
      },
      "source": [
        "df.columns"
      ],
      "execution_count": 0,
      "outputs": [
        {
          "output_type": "execute_result",
          "data": {
            "text/plain": [
              "Index(['Id', 'SepalLengthCm', 'SepalWidthCm', 'PetalLengthCm', 'PetalWidthCm',\n",
              "       'Species'],\n",
              "      dtype='object')"
            ]
          },
          "metadata": {
            "tags": []
          },
          "execution_count": 7
        }
      ]
    },
    {
      "cell_type": "markdown",
      "metadata": {
        "id": "6gzi8GrVLNiA",
        "colab_type": "text"
      },
      "source": [
        "## PREPROCESSING"
      ]
    },
    {
      "cell_type": "code",
      "metadata": {
        "id": "0B0go-_rLNiA",
        "colab_type": "code",
        "outputId": "19452cc0-9d45-43cb-adea-f18dcf8c8103",
        "colab": {}
      },
      "source": [
        "df.isnull().sum()"
      ],
      "execution_count": 0,
      "outputs": [
        {
          "output_type": "execute_result",
          "data": {
            "text/plain": [
              "Id               0\n",
              "SepalLengthCm    0\n",
              "SepalWidthCm     0\n",
              "PetalLengthCm    0\n",
              "PetalWidthCm     0\n",
              "Species          0\n",
              "dtype: int64"
            ]
          },
          "metadata": {
            "tags": []
          },
          "execution_count": 8
        }
      ]
    },
    {
      "cell_type": "markdown",
      "metadata": {
        "id": "NFL-M1A3LNiR",
        "colab_type": "text"
      },
      "source": [
        "###### There is no null value in the dataset"
      ]
    },
    {
      "cell_type": "code",
      "metadata": {
        "id": "YzbPigUsLNiR",
        "colab_type": "code",
        "outputId": "d8b29905-b406-435d-f4f9-df79ab77c4e0",
        "colab": {}
      },
      "source": [
        "df.where(df==0).sum()"
      ],
      "execution_count": 0,
      "outputs": [
        {
          "output_type": "execute_result",
          "data": {
            "text/plain": [
              "Id               0.0\n",
              "SepalLengthCm    0.0\n",
              "SepalWidthCm     0.0\n",
              "PetalLengthCm    0.0\n",
              "PetalWidthCm     0.0\n",
              "Species          0.0\n",
              "dtype: float64"
            ]
          },
          "metadata": {
            "tags": []
          },
          "execution_count": 9
        }
      ]
    },
    {
      "cell_type": "markdown",
      "metadata": {
        "id": "JDIvMWGMLNig",
        "colab_type": "text"
      },
      "source": [
        "##### There is no zero value in the dataset"
      ]
    },
    {
      "cell_type": "code",
      "metadata": {
        "id": "r7rvfd90LNig",
        "colab_type": "code",
        "outputId": "119ddb07-d126-4688-a277-1d2006bf5b6e",
        "colab": {}
      },
      "source": [
        "df['Species'].value_counts()"
      ],
      "execution_count": 0,
      "outputs": [
        {
          "output_type": "execute_result",
          "data": {
            "text/plain": [
              "Iris-setosa        50\n",
              "Iris-versicolor    50\n",
              "Iris-virginica     50\n",
              "Name: Species, dtype: int64"
            ]
          },
          "metadata": {
            "tags": []
          },
          "execution_count": 10
        }
      ]
    },
    {
      "cell_type": "code",
      "metadata": {
        "id": "Ni_E_HZdLNit",
        "colab_type": "code",
        "colab": {}
      },
      "source": [
        "cols=df.select_dtypes(include=['object']).columns\n",
        "le=LabelEncoder()\n",
        "for i in cols:\n",
        "    df[i]=le.fit_transform(df[i])"
      ],
      "execution_count": 0,
      "outputs": []
    },
    {
      "cell_type": "code",
      "metadata": {
        "id": "bst12zOjLNi8",
        "colab_type": "code",
        "outputId": "50f1c30d-c3e1-47fd-9cea-57673754dce4",
        "colab": {}
      },
      "source": [
        "df['Species'].value_counts()"
      ],
      "execution_count": 0,
      "outputs": [
        {
          "output_type": "execute_result",
          "data": {
            "text/plain": [
              "2    50\n",
              "1    50\n",
              "0    50\n",
              "Name: Species, dtype: int64"
            ]
          },
          "metadata": {
            "tags": []
          },
          "execution_count": 12
        }
      ]
    },
    {
      "cell_type": "markdown",
      "metadata": {
        "id": "GnQUOHi4LNjM",
        "colab_type": "text"
      },
      "source": [
        "##### Label encoded the categorical column Species:\n",
        "Iris-setosa - 0 \n",
        "Iris-versicolor - 1 \n",
        "Iris-virginica - 2     "
      ]
    },
    {
      "cell_type": "code",
      "metadata": {
        "id": "s94jSorXLNjM",
        "colab_type": "code",
        "outputId": "8bf9d433-9ee3-47e9-bbdf-7d945a766082",
        "colab": {}
      },
      "source": [
        "sns.countplot(df['Species'])"
      ],
      "execution_count": 0,
      "outputs": [
        {
          "output_type": "execute_result",
          "data": {
            "text/plain": [
              "<matplotlib.axes._subplots.AxesSubplot at 0x224a5b81cc0>"
            ]
          },
          "metadata": {
            "tags": []
          },
          "execution_count": 13
        },
        {
          "output_type": "display_data",
          "data": {
            "image/png": "[encoded data removed]",
            "text/plain": [
              "<Figure size 432x288 with 1 Axes>"
            ]
          },
          "metadata": {
            "tags": [],
            "needs_background": "light"
          }
        }
      ]
    },
    {
      "cell_type": "markdown",
      "metadata": {
        "id": "4-TmdH_VLNjM",
        "colab_type": "text"
      },
      "source": [
        "##### the total frequency of each species is 50"
      ]
    },
    {
      "cell_type": "code",
      "metadata": {
        "id": "ttmdu8kBLNjM",
        "colab_type": "code",
        "colab": {}
      },
      "source": [
        "df.drop(columns='Id',axis=1,inplace=True)\n",
        "#### since id is unique value and has no effect on the target value so we drop the column"
      ],
      "execution_count": 0,
      "outputs": []
    },
    {
      "cell_type": "markdown",
      "metadata": {
        "id": "h6UDXh4qLNjM",
        "colab_type": "text"
      },
      "source": [
        "#### Boxplot to detect outliers"
      ]
    },
    {
      "cell_type": "code",
      "metadata": {
        "id": "0235T27jLNjM",
        "colab_type": "code",
        "outputId": "5bc57f52-1715-4942-8545-afcb8a13b017",
        "colab": {}
      },
      "source": [
        "for i in list(df.columns):\n",
        "    plt.boxplot(df[i])\n",
        "    plt.xlabel(i)\n",
        "    plt.show()"
      ],
      "execution_count": 0,
      "outputs": [
        {
          "output_type": "display_data",
          "data": {
            "image/png": "[encoded data removed]",
            "text/plain": [
              "<Figure size 432x288 with 1 Axes>"
            ]
          },
          "metadata": {
            "tags": [],
            "needs_background": "light"
          }
        },
        {
          "output_type": "display_data",
          "data": {
            "image/png": "[encoded data removed]",
            "text/plain": [
              "<Figure size 432x288 with 1 Axes>"
            ]
          },
          "metadata": {
            "tags": [],
            "needs_background": "light"
          }
        },
        {
          "output_type": "display_data",
          "data": {
            "image/png": "[encoded data removed]",
            "text/plain": [
              "<Figure size 432x288 with 1 Axes>"
            ]
          },
          "metadata": {
            "tags": [],
            "needs_background": "light"
          }
        },
        {
          "output_type": "display_data",
          "data": {
            "image/png": "[encoded data removed]",
            "text/plain": [
              "<Figure size 432x288 with 1 Axes>"
            ]
          },
          "metadata": {
            "tags": [],
            "needs_background": "light"
          }
        },
        {
          "output_type": "display_data",
          "data": {
            "image/png": "[encoded data removed]",
            "text/plain": [
              "<Figure size 432x288 with 1 Axes>"
            ]
          },
          "metadata": {
            "tags": [],
            "needs_background": "light"
          }
        }
      ]
    },
    {
      "cell_type": "markdown",
      "metadata": {
        "id": "KCGBm8pALNjM",
        "colab_type": "text"
      },
      "source": [
        "##### Detecting outliers in the dataset above :\n",
        "1) sepalwidthcm : some data points lie below 2.80(25%) and some lie above 3.30(75%) but we cant remove them since it wont affect the target "
      ]
    },
    {
      "cell_type": "markdown",
      "metadata": {
        "id": "VB2iE49OLNjb",
        "colab_type": "text"
      },
      "source": [
        "##### the pairplot shows the scatterplot of the columns above"
      ]
    },
    {
      "cell_type": "code",
      "metadata": {
        "id": "4TWnOWaFLNjb",
        "colab_type": "code",
        "outputId": "a63efefa-53a8-4e11-eb18-acd482ea2e29",
        "colab": {}
      },
      "source": [
        "sns.pairplot(df)"
      ],
      "execution_count": 0,
      "outputs": [
        {
          "output_type": "execute_result",
          "data": {
            "text/plain": [
              "<seaborn.axisgrid.PairGrid at 0x224a5e71da0>"
            ]
          },
          "metadata": {
            "tags": []
          },
          "execution_count": 16
        },
        {
          "output_type": "display_data",
          "data": {
            "image/png": "[encoded data removed]",
            "text/plain": [
              "<Figure size 900x900 with 30 Axes>"
            ]
          },
          "metadata": {
            "tags": [],
            "needs_background": "light"
          }
        }
      ]
    },
    {
      "cell_type": "markdown",
      "metadata": {
        "id": "x5vwL7RALNjb",
        "colab_type": "text"
      },
      "source": [
        "#### scatter plot to check well-seperated features of each species "
      ]
    },
    {
      "cell_type": "code",
      "metadata": {
        "id": "igqYYI1KLNjb",
        "colab_type": "code",
        "outputId": "409bb943-b1fc-403e-c4a5-ffd02a617a9e",
        "colab": {}
      },
      "source": [
        "for column in list(df.columns)[1:]:\n",
        "    plt.figure()\n",
        "    plt.scatter(df['Species'],df[column])\n",
        "    plt.xlabel('Species')\n",
        "    plt.ylabel(column)\n",
        "    \n",
        "    plt.show()"
      ],
      "execution_count": 0,
      "outputs": [
        {
          "output_type": "display_data",
          "data": {
            "image/png": "[encoded data removed]",
            "text/plain": [
              "<Figure size 432x288 with 1 Axes>"
            ]
          },
          "metadata": {
            "tags": [],
            "needs_background": "light"
          }
        },
        {
          "output_type": "display_data",
          "data": {
            "image/png": "[encoded data removed]",
            "text/plain": [
              "<Figure size 432x288 with 1 Axes>"
            ]
          },
          "metadata": {
            "tags": [],
            "needs_background": "light"
          }
        },
        {
          "output_type": "display_data",
          "data": {
            "image/png": "[encoded data removed]",
            "text/plain": [
              "<Figure size 432x288 with 1 Axes>"
            ]
          },
          "metadata": {
            "tags": [],
            "needs_background": "light"
          }
        },
        {
          "output_type": "display_data",
          "data": {
            "image/png": "[encoded data removed]",
            "text/plain": [
              "<Figure size 432x288 with 1 Axes>"
            ]
          },
          "metadata": {
            "tags": [],
            "needs_background": "light"
          }
        }
      ]
    },
    {
      "cell_type": "markdown",
      "metadata": {
        "id": "uaz8PTtGLNjb",
        "colab_type": "text"
      },
      "source": [
        "##### it can be inffered that :\n",
        "##### 1)PetalLengthcm is well seperated for Iris-setosa and Iris-virginica,Iris-setosa and Iris-versicolor species type\n",
        "##### 2) PetalWidthcm is well seperated for Iris-setosa and Iris-virginica,Iris-setosa and Iris-versicolor species type\n"
      ]
    },
    {
      "cell_type": "markdown",
      "metadata": {
        "id": "4ozgf3g2LNjb",
        "colab_type": "text"
      },
      "source": [
        "### Skewness :"
      ]
    },
    {
      "cell_type": "code",
      "metadata": {
        "id": "M9pdafe9LNjb",
        "colab_type": "code",
        "outputId": "5cdd4ab5-1b20-46ad-a743-249e7fa05d7a",
        "colab": {}
      },
      "source": [
        "from scipy.stats import skew\n",
        "for i in df.columns:\n",
        "    if i == 'Species' :\n",
        "        continue\n",
        "    else:\n",
        "        print(i+':'+str(skew(df[i].values)))\n",
        "        print()"
      ],
      "execution_count": 0,
      "outputs": [
        {
          "output_type": "stream",
          "text": [
            "SepalLengthCm:0.3117530585022963\n",
            "\n",
            "SepalWidthCm:0.330702812773315\n",
            "\n",
            "PetalLengthCm:-0.2717119501716388\n",
            "\n",
            "PetalWidthCm:-0.10394366626751729\n",
            "\n"
          ],
          "name": "stdout"
        }
      ]
    },
    {
      "cell_type": "markdown",
      "metadata": {
        "id": "HIYAA6NMLNjr",
        "colab_type": "text"
      },
      "source": [
        "#### Skewness calculated above: \n",
        "##### 1)PetalLengthCm,PetalWidthCm,SepalWidthCm,SepalLengthCm are not  skewed as values lie between -0.5 and 0.5  \n"
      ]
    },
    {
      "cell_type": "code",
      "metadata": {
        "id": "Fzlkh50jLNjr",
        "colab_type": "code",
        "outputId": "24b75d7d-85fe-4705-caba-215d43156047",
        "colab": {}
      },
      "source": [
        "##### Visualising the skewness \n",
        "\n",
        "for column in list(df.columns):\n",
        "    plt.figure()\n",
        "    if column=='Species':\n",
        "        continue\n",
        "    else:\n",
        "        sns.distplot(df[column])\n",
        "        plt.xlabel(column)\n",
        "        "
      ],
      "execution_count": 0,
      "outputs": [
        {
          "output_type": "display_data",
          "data": {
            "image/png": "[encoded data removed]",
            "text/plain": [
              "<Figure size 432x288 with 1 Axes>"
            ]
          },
          "metadata": {
            "tags": [],
            "needs_background": "light"
          }
        },
        {
          "output_type": "display_data",
          "data": {
            "image/png": "[encoded data removed]",
            "text/plain": [
              "<Figure size 432x288 with 1 Axes>"
            ]
          },
          "metadata": {
            "tags": [],
            "needs_background": "light"
          }
        },
        {
          "output_type": "display_data",
          "data": {
            "image/png": "[encoded data removed]",
            "text/plain": [
              "<Figure size 432x288 with 1 Axes>"
            ]
          },
          "metadata": {
            "tags": [],
            "needs_background": "light"
          }
        },
        {
          "output_type": "display_data",
          "data": {
            "image/png": "[encoded data removed]",
            "text/plain": [
              "<Figure size 432x288 with 1 Axes>"
            ]
          },
          "metadata": {
            "tags": [],
            "needs_background": "light"
          }
        },
        {
          "output_type": "display_data",
          "data": {
            "text/plain": [
              "<Figure size 432x288 with 0 Axes>"
            ]
          },
          "metadata": {
            "tags": []
          }
        }
      ]
    },
    {
      "cell_type": "markdown",
      "metadata": {
        "id": "jfpoZZEmLNjr",
        "colab_type": "text"
      },
      "source": [
        "### Kurtosis :"
      ]
    },
    {
      "cell_type": "code",
      "metadata": {
        "id": "37s5XT_6LNjr",
        "colab_type": "code",
        "outputId": "8a232f43-4152-411d-a8bc-a59862d153b9",
        "colab": {}
      },
      "source": [
        "from scipy.stats import kurtosis\n",
        "for i in df.columns:\n",
        "    if i == 'outcome' :\n",
        "        continue\n",
        "    else:\n",
        "        x=df[i].values\n",
        "        print(i+':'+str(kurtosis(x,fisher=False,bias=True)))\n",
        "        print()"
      ],
      "execution_count": 0,
      "outputs": [
        {
          "output_type": "stream",
          "text": [
            "SepalLengthCm:2.4264320510750235\n",
            "\n",
            "SepalWidthCm:3.2414432993831834\n",
            "\n",
            "PetalLengthCm:1.6046406978602872\n",
            "\n",
            "PetalWidthCm:1.6647543558688143\n",
            "\n",
            "Species:1.5\n",
            "\n"
          ],
          "name": "stdout"
        }
      ]
    },
    {
      "cell_type": "markdown",
      "metadata": {
        "id": "uj9DZjZyLNjr",
        "colab_type": "text"
      },
      "source": [
        "##### Kurtosis shown above shows:\n",
        "##### since SepalWidthCm value is >0.3 so it indicates outliers"
      ]
    },
    {
      "cell_type": "markdown",
      "metadata": {
        "id": "Wx6OR1QPLNjr",
        "colab_type": "text"
      },
      "source": [
        "### Normalising the data"
      ]
    },
    {
      "cell_type": "code",
      "metadata": {
        "id": "62qGfdrULNjr",
        "colab_type": "code",
        "outputId": "c0ca333a-e62a-4b9f-ead8-4e5e8d956747",
        "colab": {}
      },
      "source": [
        "features=df.columns.drop(\"Species\")\n",
        "target=[\"Species\"]\n",
        "features,target"
      ],
      "execution_count": 0,
      "outputs": [
        {
          "output_type": "execute_result",
          "data": {
            "text/plain": [
              "(Index(['SepalLengthCm', 'SepalWidthCm', 'PetalLengthCm', 'PetalWidthCm'], dtype='object'),\n",
              " ['Species'])"
            ]
          },
          "metadata": {
            "tags": []
          },
          "execution_count": 21
        }
      ]
    },
    {
      "cell_type": "code",
      "metadata": {
        "id": "Xm3L-_9iLNjr",
        "colab_type": "code",
        "colab": {}
      },
      "source": [
        "tar=pd.DataFrame()"
      ],
      "execution_count": 0,
      "outputs": []
    },
    {
      "cell_type": "code",
      "metadata": {
        "id": "ocL_pmnwLNjr",
        "colab_type": "code",
        "colab": {}
      },
      "source": [
        "tar=df['Species']"
      ],
      "execution_count": 0,
      "outputs": []
    },
    {
      "cell_type": "code",
      "metadata": {
        "id": "Es_9Sl3GLNjr",
        "colab_type": "code",
        "colab": {}
      },
      "source": [
        "scaler=MinMaxScaler()\n",
        "scaled_values=scaler.fit_transform(df[features])"
      ],
      "execution_count": 0,
      "outputs": []
    },
    {
      "cell_type": "code",
      "metadata": {
        "id": "1Qv0FlMJLNj6",
        "colab_type": "code",
        "colab": {}
      },
      "source": [
        "df_enc=pd.DataFrame()\n",
        "c=0\n",
        "for i in features:\n",
        "    df_enc[i]=scaled_values[:,c]\n",
        "    c+=1"
      ],
      "execution_count": 0,
      "outputs": []
    },
    {
      "cell_type": "code",
      "metadata": {
        "id": "mVmz2ltaLNj6",
        "colab_type": "code",
        "outputId": "d04d4158-8b44-433d-afc4-03cd346464d5",
        "colab": {}
      },
      "source": [
        "df_enc.head()"
      ],
      "execution_count": 0,
      "outputs": [
        {
          "output_type": "execute_result",
          "data": {
            "text/html": [
              "<div>\n",
              "<style scoped>\n",
              "    .dataframe tbody tr th:only-of-type {\n",
              "        vertical-align: middle;\n",
              "    }\n",
              "\n",
              "    .dataframe tbody tr th {\n",
              "        vertical-align: top;\n",
              "    }\n",
              "\n",
              "    .dataframe thead th {\n",
              "        text-align: right;\n",
              "    }\n",
              "</style>\n",
              "<table border=\"1\" class=\"dataframe\">\n",
              "  <thead>\n",
              "    <tr style=\"text-align: right;\">\n",
              "      <th></th>\n",
              "      <th>SepalLengthCm</th>\n",
              "      <th>SepalWidthCm</th>\n",
              "      <th>PetalLengthCm</th>\n",
              "      <th>PetalWidthCm</th>\n",
              "    </tr>\n",
              "  </thead>\n",
              "  <tbody>\n",
              "    <tr>\n",
              "      <th>0</th>\n",
              "      <td>0.222222</td>\n",
              "      <td>0.625000</td>\n",
              "      <td>0.067797</td>\n",
              "      <td>0.041667</td>\n",
              "    </tr>\n",
              "    <tr>\n",
              "      <th>1</th>\n",
              "      <td>0.166667</td>\n",
              "      <td>0.416667</td>\n",
              "      <td>0.067797</td>\n",
              "      <td>0.041667</td>\n",
              "    </tr>\n",
              "    <tr>\n",
              "      <th>2</th>\n",
              "      <td>0.111111</td>\n",
              "      <td>0.500000</td>\n",
              "      <td>0.050847</td>\n",
              "      <td>0.041667</td>\n",
              "    </tr>\n",
              "    <tr>\n",
              "      <th>3</th>\n",
              "      <td>0.083333</td>\n",
              "      <td>0.458333</td>\n",
              "      <td>0.084746</td>\n",
              "      <td>0.041667</td>\n",
              "    </tr>\n",
              "    <tr>\n",
              "      <th>4</th>\n",
              "      <td>0.194444</td>\n",
              "      <td>0.666667</td>\n",
              "      <td>0.067797</td>\n",
              "      <td>0.041667</td>\n",
              "    </tr>\n",
              "  </tbody>\n",
              "</table>\n",
              "</div>"
            ],
            "text/plain": [
              "   SepalLengthCm  SepalWidthCm  PetalLengthCm  PetalWidthCm\n",
              "0       0.222222      0.625000       0.067797      0.041667\n",
              "1       0.166667      0.416667       0.067797      0.041667\n",
              "2       0.111111      0.500000       0.050847      0.041667\n",
              "3       0.083333      0.458333       0.084746      0.041667\n",
              "4       0.194444      0.666667       0.067797      0.041667"
            ]
          },
          "metadata": {
            "tags": []
          },
          "execution_count": 32
        }
      ]
    },
    {
      "cell_type": "code",
      "metadata": {
        "id": "Mj-vba79LNj6",
        "colab_type": "code",
        "colab": {}
      },
      "source": [
        "# from sklearn.preprocessing import MinMaxScaler\n",
        "# scaler = MinMaxScaler()\n",
        "# X=df.drop('Species',1)\n",
        "# y=df['Species']\n",
        "X_train,X_test,y_train,y_test = train_test_split(X,y,test_size=0.20,random_state=100)\n",
        "# X_train=scaler.fit_transform(X_train)\n",
        "# X_test=scaler.fit_transform(X_test)"
      ],
      "execution_count": 0,
      "outputs": []
    },
    {
      "cell_type": "code",
      "metadata": {
        "id": "OlRV0UL5LNj6",
        "colab_type": "code",
        "colab": {}
      },
      "source": [
        ""
      ],
      "execution_count": 0,
      "outputs": []
    },
    {
      "cell_type": "code",
      "metadata": {
        "id": "z9T91O4lLNj6",
        "colab_type": "code",
        "outputId": "92f2684e-fde2-44b8-a0f6-e4160432484f",
        "colab": {}
      },
      "source": [
        "df.head()"
      ],
      "execution_count": 0,
      "outputs": [
        {
          "output_type": "execute_result",
          "data": {
            "text/html": [
              "<div>\n",
              "<style scoped>\n",
              "    .dataframe tbody tr th:only-of-type {\n",
              "        vertical-align: middle;\n",
              "    }\n",
              "\n",
              "    .dataframe tbody tr th {\n",
              "        vertical-align: top;\n",
              "    }\n",
              "\n",
              "    .dataframe thead th {\n",
              "        text-align: right;\n",
              "    }\n",
              "</style>\n",
              "<table border=\"1\" class=\"dataframe\">\n",
              "  <thead>\n",
              "    <tr style=\"text-align: right;\">\n",
              "      <th></th>\n",
              "      <th>SepalLengthCm</th>\n",
              "      <th>SepalWidthCm</th>\n",
              "      <th>PetalLengthCm</th>\n",
              "      <th>PetalWidthCm</th>\n",
              "      <th>Species</th>\n",
              "    </tr>\n",
              "  </thead>\n",
              "  <tbody>\n",
              "    <tr>\n",
              "      <th>0</th>\n",
              "      <td>5.1</td>\n",
              "      <td>3.5</td>\n",
              "      <td>1.4</td>\n",
              "      <td>0.2</td>\n",
              "      <td>0</td>\n",
              "    </tr>\n",
              "    <tr>\n",
              "      <th>1</th>\n",
              "      <td>4.9</td>\n",
              "      <td>3.0</td>\n",
              "      <td>1.4</td>\n",
              "      <td>0.2</td>\n",
              "      <td>0</td>\n",
              "    </tr>\n",
              "    <tr>\n",
              "      <th>2</th>\n",
              "      <td>4.7</td>\n",
              "      <td>3.2</td>\n",
              "      <td>1.3</td>\n",
              "      <td>0.2</td>\n",
              "      <td>0</td>\n",
              "    </tr>\n",
              "    <tr>\n",
              "      <th>3</th>\n",
              "      <td>4.6</td>\n",
              "      <td>3.1</td>\n",
              "      <td>1.5</td>\n",
              "      <td>0.2</td>\n",
              "      <td>0</td>\n",
              "    </tr>\n",
              "    <tr>\n",
              "      <th>4</th>\n",
              "      <td>5.0</td>\n",
              "      <td>3.6</td>\n",
              "      <td>1.4</td>\n",
              "      <td>0.2</td>\n",
              "      <td>0</td>\n",
              "    </tr>\n",
              "  </tbody>\n",
              "</table>\n",
              "</div>"
            ],
            "text/plain": [
              "   SepalLengthCm  SepalWidthCm  PetalLengthCm  PetalWidthCm  Species\n",
              "0            5.1           3.5            1.4           0.2        0\n",
              "1            4.9           3.0            1.4           0.2        0\n",
              "2            4.7           3.2            1.3           0.2        0\n",
              "3            4.6           3.1            1.5           0.2        0\n",
              "4            5.0           3.6            1.4           0.2        0"
            ]
          },
          "metadata": {
            "tags": []
          },
          "execution_count": 34
        }
      ]
    },
    {
      "cell_type": "markdown",
      "metadata": {
        "id": "K0bXacvCLNj6",
        "colab_type": "text"
      },
      "source": [
        "###  FEATURE ENGINEERING"
      ]
    },
    {
      "cell_type": "markdown",
      "metadata": {
        "id": "_pJWcd9tLNkK",
        "colab_type": "text"
      },
      "source": [
        "#### the features selected using LDA"
      ]
    },
    {
      "cell_type": "code",
      "metadata": {
        "id": "6yGPsVEqLNkK",
        "colab_type": "code",
        "outputId": "3dca2e35-66bd-4ee2-b247-7c1cff5fa3e5",
        "colab": {}
      },
      "source": [
        "from sklearn.discriminant_analysis import LinearDiscriminantAnalysis as LDA\n",
        "lda = LDA(n_components=2)\n",
        "X_train1 = lda.fit_transform(X_train, y_train)\n",
        "X_test1 = lda.transform(X_test)\n",
        "variance1=lda.explained_variance_ratio_\n",
        "variance1"
      ],
      "execution_count": 0,
      "outputs": [
        {
          "output_type": "execute_result",
          "data": {
            "text/plain": [
              "array([0.99170061, 0.00829939])"
            ]
          },
          "metadata": {
            "tags": []
          },
          "execution_count": 35
        }
      ]
    },
    {
      "cell_type": "markdown",
      "metadata": {
        "id": "QLEC8zHDLNkK",
        "colab_type": "text"
      },
      "source": [
        "#### the features selected using PCA"
      ]
    },
    {
      "cell_type": "code",
      "metadata": {
        "id": "D_MXAoSxLNkK",
        "colab_type": "code",
        "outputId": "26b4a140-88c2-4048-d3d8-640e84936510",
        "colab": {}
      },
      "source": [
        "'''pca=PCA(n_components=3)\n",
        "X_train1=pca.fit_transform(X_train)\n",
        "X_test1=pca.fit_transform(X_test)\n",
        "variance=pca.explained_variance_ratio_\n",
        "variance'''"
      ],
      "execution_count": 0,
      "outputs": [
        {
          "output_type": "execute_result",
          "data": {
            "text/plain": [
              "'pca=PCA(n_components=3)\\nX_train1=pca.fit_transform(X_train)\\nX_test1=pca.fit_transform(X_test)\\nvariance=pca.explained_variance_ratio_\\nvariance'"
            ]
          },
          "metadata": {
            "tags": []
          },
          "execution_count": 36
        }
      ]
    },
    {
      "cell_type": "code",
      "metadata": {
        "id": "c2ILddXULNkK",
        "colab_type": "code",
        "outputId": "570111a0-d545-4cb6-f923-623ed7fd4b98",
        "colab": {}
      },
      "source": [
        "pca.components_"
      ],
      "execution_count": 0,
      "outputs": [
        {
          "output_type": "error",
          "ename": "NameError",
          "evalue": "name 'pca' is not defined",
          "traceback": [
            "\u001b[1;31m---------------------------------------------------------------------------\u001b[0m",
            "\u001b[1;31mNameError\u001b[0m                                 Traceback (most recent call last)",
            "\u001b[1;32m<ipython-input-37-d8de250540b0>\u001b[0m in \u001b[0;36m<module>\u001b[1;34m\u001b[0m\n\u001b[1;32m----> 1\u001b[1;33m \u001b[0mpca\u001b[0m\u001b[1;33m.\u001b[0m\u001b[0mcomponents_\u001b[0m\u001b[1;33m\u001b[0m\u001b[1;33m\u001b[0m\u001b[0m\n\u001b[0m",
            "\u001b[1;31mNameError\u001b[0m: name 'pca' is not defined"
          ]
        }
      ]
    },
    {
      "cell_type": "markdown",
      "metadata": {
        "id": "MfapzI7xLNka",
        "colab_type": "text"
      },
      "source": [
        "#### calculating variance of the features"
      ]
    },
    {
      "cell_type": "code",
      "metadata": {
        "id": "Vj0RBoOKLNka",
        "colab_type": "code",
        "outputId": "fa419c1a-90c8-4507-cfc6-3629fc93bce7",
        "colab": {}
      },
      "source": [
        "df.var().sort_values()"
      ],
      "execution_count": 0,
      "outputs": [
        {
          "output_type": "execute_result",
          "data": {
            "text/plain": [
              "SepalWidthCm     0.188004\n",
              "PetalWidthCm     0.582414\n",
              "Species          0.671141\n",
              "SepalLengthCm    0.685694\n",
              "PetalLengthCm    3.113179\n",
              "dtype: float64"
            ]
          },
          "metadata": {
            "tags": []
          },
          "execution_count": 38
        }
      ]
    },
    {
      "cell_type": "markdown",
      "metadata": {
        "id": "PwI3GlumLNka",
        "colab_type": "text"
      },
      "source": [
        "#### we can infer that SepalWidthCm is least variant and PetalLengthCm is most variance"
      ]
    },
    {
      "cell_type": "markdown",
      "metadata": {
        "id": "OF5IIGX0LNka",
        "colab_type": "text"
      },
      "source": [
        "#### calculating correlation :"
      ]
    },
    {
      "cell_type": "code",
      "metadata": {
        "id": "wOHZtjG8LNka",
        "colab_type": "code",
        "outputId": "ae5257bc-7f89-4238-c98c-449cb83b2dfb",
        "colab": {}
      },
      "source": [
        "df.corr()"
      ],
      "execution_count": 0,
      "outputs": [
        {
          "output_type": "execute_result",
          "data": {
            "text/html": [
              "<div>\n",
              "<style scoped>\n",
              "    .dataframe tbody tr th:only-of-type {\n",
              "        vertical-align: middle;\n",
              "    }\n",
              "\n",
              "    .dataframe tbody tr th {\n",
              "        vertical-align: top;\n",
              "    }\n",
              "\n",
              "    .dataframe thead th {\n",
              "        text-align: right;\n",
              "    }\n",
              "</style>\n",
              "<table border=\"1\" class=\"dataframe\">\n",
              "  <thead>\n",
              "    <tr style=\"text-align: right;\">\n",
              "      <th></th>\n",
              "      <th>SepalLengthCm</th>\n",
              "      <th>SepalWidthCm</th>\n",
              "      <th>PetalLengthCm</th>\n",
              "      <th>PetalWidthCm</th>\n",
              "      <th>Species</th>\n",
              "    </tr>\n",
              "  </thead>\n",
              "  <tbody>\n",
              "    <tr>\n",
              "      <th>SepalLengthCm</th>\n",
              "      <td>1.000000</td>\n",
              "      <td>-0.109369</td>\n",
              "      <td>0.871754</td>\n",
              "      <td>0.817954</td>\n",
              "      <td>0.782561</td>\n",
              "    </tr>\n",
              "    <tr>\n",
              "      <th>SepalWidthCm</th>\n",
              "      <td>-0.109369</td>\n",
              "      <td>1.000000</td>\n",
              "      <td>-0.420516</td>\n",
              "      <td>-0.356544</td>\n",
              "      <td>-0.419446</td>\n",
              "    </tr>\n",
              "    <tr>\n",
              "      <th>PetalLengthCm</th>\n",
              "      <td>0.871754</td>\n",
              "      <td>-0.420516</td>\n",
              "      <td>1.000000</td>\n",
              "      <td>0.962757</td>\n",
              "      <td>0.949043</td>\n",
              "    </tr>\n",
              "    <tr>\n",
              "      <th>PetalWidthCm</th>\n",
              "      <td>0.817954</td>\n",
              "      <td>-0.356544</td>\n",
              "      <td>0.962757</td>\n",
              "      <td>1.000000</td>\n",
              "      <td>0.956464</td>\n",
              "    </tr>\n",
              "    <tr>\n",
              "      <th>Species</th>\n",
              "      <td>0.782561</td>\n",
              "      <td>-0.419446</td>\n",
              "      <td>0.949043</td>\n",
              "      <td>0.956464</td>\n",
              "      <td>1.000000</td>\n",
              "    </tr>\n",
              "  </tbody>\n",
              "</table>\n",
              "</div>"
            ],
            "text/plain": [
              "               SepalLengthCm  SepalWidthCm  PetalLengthCm  PetalWidthCm  \\\n",
              "SepalLengthCm       1.000000     -0.109369       0.871754      0.817954   \n",
              "SepalWidthCm       -0.109369      1.000000      -0.420516     -0.356544   \n",
              "PetalLengthCm       0.871754     -0.420516       1.000000      0.962757   \n",
              "PetalWidthCm        0.817954     -0.356544       0.962757      1.000000   \n",
              "Species             0.782561     -0.419446       0.949043      0.956464   \n",
              "\n",
              "                Species  \n",
              "SepalLengthCm  0.782561  \n",
              "SepalWidthCm  -0.419446  \n",
              "PetalLengthCm  0.949043  \n",
              "PetalWidthCm   0.956464  \n",
              "Species        1.000000  "
            ]
          },
          "metadata": {
            "tags": []
          },
          "execution_count": 39
        }
      ]
    },
    {
      "cell_type": "markdown",
      "metadata": {
        "id": "8QNDTjQ2LNka",
        "colab_type": "text"
      },
      "source": [
        "##### the values between -0.7 and 0.7 are highly correlated to target variable-->SepalLengthCm,PetalLengthCm,PetalWidthCm"
      ]
    },
    {
      "cell_type": "markdown",
      "metadata": {
        "id": "Rv_yW9BvLNka",
        "colab_type": "text"
      },
      "source": [
        "#### Visualising correlation"
      ]
    },
    {
      "cell_type": "code",
      "metadata": {
        "id": "uohSiy5RLNka",
        "colab_type": "code",
        "outputId": "f0fb2c1a-88d2-461e-c71c-e0443b9a12f5",
        "colab": {}
      },
      "source": [
        "plt.figure(figsize=(5,5))\n",
        "sns.heatmap(df.corr(),annot=True)"
      ],
      "execution_count": 0,
      "outputs": [
        {
          "output_type": "execute_result",
          "data": {
            "text/plain": [
              "<matplotlib.axes._subplots.AxesSubplot at 0x224a85d6438>"
            ]
          },
          "metadata": {
            "tags": []
          },
          "execution_count": 40
        },
        {
          "output_type": "display_data",
          "data": {
            "image/png": "[encoded data removed]",
            "text/plain": [
              "<Figure size 360x360 with 2 Axes>"
            ]
          },
          "metadata": {
            "tags": [],
            "needs_background": "light"
          }
        }
      ]
    },
    {
      "cell_type": "markdown",
      "metadata": {
        "id": "8gmkdk6tLNka",
        "colab_type": "text"
      },
      "source": [
        "#### Splitting the dataset into traing and test set with 80:20 ratio"
      ]
    },
    {
      "cell_type": "code",
      "metadata": {
        "id": "mnCGo9fpLNka",
        "colab_type": "code",
        "colab": {}
      },
      "source": [
        "# splitting data to train and test\n",
        "# X_train,X_test,y_train,y_test = train_test_split(X,y,test_size=0.20,random_state=100)\n",
        "# X_train.shape,X_test.shape"
      ],
      "execution_count": 0,
      "outputs": []
    },
    {
      "cell_type": "markdown",
      "metadata": {
        "id": "pzSOdK_oLNkp",
        "colab_type": "text"
      },
      "source": [
        "### MODEL BUILDING"
      ]
    },
    {
      "cell_type": "code",
      "metadata": {
        "id": "q9EFwRFoLNkp",
        "colab_type": "code",
        "colab": {}
      },
      "source": [
        "model1 = LogisticRegression()\n",
        "model2 = DecisionTreeClassifier(min_impurity_decrease=0.05)\n",
        "model3 = KNeighborsClassifier()\n",
        "model4 = SVC(kernel=\"rbf\")\n",
        "scaler = MinMaxScaler()"
      ],
      "execution_count": 0,
      "outputs": []
    },
    {
      "cell_type": "code",
      "metadata": {
        "id": "xjoBCK-dLNkp",
        "colab_type": "code",
        "outputId": "a4cbaeb2-d3ff-4e04-88f2-5ab1d1a1acbe",
        "colab": {}
      },
      "source": [
        "names=['Logistic Regression','Decision Tree','KNN','SVC']\n",
        "j=0\n",
        "for i in [model1,model2,model3,model4]:\n",
        "    \n",
        "    i.fit(X_train1,y_train)\n",
        "    train_accuracy = i.score(X_train1,y_train)\n",
        "    test_accuracy = i.score(X_test1,y_test)\n",
        "    print(names[j])\n",
        "    j+=1\n",
        "    print(train_accuracy,test_accuracy)"
      ],
      "execution_count": 0,
      "outputs": [
        {
          "output_type": "stream",
          "text": [
            "Logistic Regression\n",
            "0.9416666666666667 0.9666666666666667\n",
            "Decision Tree\n",
            "0.9833333333333333 1.0\n",
            "KNN\n",
            "0.9833333333333333 0.9666666666666667\n",
            "SVC\n",
            "0.975 0.9666666666666667\n"
          ],
          "name": "stdout"
        }
      ]
    },
    {
      "cell_type": "markdown",
      "metadata": {
        "id": "UEnhdtnNLNkp",
        "colab_type": "text"
      },
      "source": [
        "#### USING ENSEMBLING TECHNIQUES TO INCREASE THE MODEL ACCURACY:\n",
        "#### 1) random forest\n",
        "#### 2) adaboost\n",
        "#### 3) kfold"
      ]
    },
    {
      "cell_type": "code",
      "metadata": {
        "id": "R2ptaMTELNkp",
        "colab_type": "code",
        "outputId": "0c3517aa-f869-4cdb-e024-472e00ed6d8e",
        "colab": {}
      },
      "source": [
        "from sklearn.ensemble import RandomForestClassifier\n",
        "model = RandomForestClassifier(n_estimators=10,\n",
        "                               min_samples_split=20,\n",
        "                               min_impurity_decrease=0.05)\n",
        "model.fit(X_train,y_train)\n",
        "train_accuracy = model.score(X_train,y_train)\n",
        "test_accuracy = model.score(X_test,y_test)\n",
        "print(train_accuracy,test_accuracy)"
      ],
      "execution_count": 0,
      "outputs": [
        {
          "output_type": "stream",
          "text": [
            "0.975 0.9666666666666667\n"
          ],
          "name": "stdout"
        }
      ]
    },
    {
      "cell_type": "code",
      "metadata": {
        "id": "9f08ndLoLNkp",
        "colab_type": "code",
        "colab": {}
      },
      "source": [
        "from sklearn.ensemble import AdaBoostClassifier\n",
        "model5 = AdaBoostClassifier(n_estimators=10)\n",
        "model5.fit(X_train,y_train)\n",
        "train_accuracy = model5.score(X_train,y_train)\n",
        "test_accuracy = model5.score(X_test,y_test)\n",
        "print(train_accuracy,test_accuracy)"
      ],
      "execution_count": 0,
      "outputs": []
    },
    {
      "cell_type": "code",
      "metadata": {
        "id": "fjZq2Zz7LNk5",
        "colab_type": "code",
        "colab": {}
      },
      "source": [
        "from sklearn.model_selection import KFold\n",
        "from matplotlib import pyplot as plt\n",
        "from sklearn.metrics import confusion_matrix\n",
        "k_fold = KFold(n_splits=8,shuffle=False,random_state=100)\n",
        "\n",
        "names=['Logistic Regression','Decision Tree','KNN','SVC']\n",
        "j=0\n",
        "for k in [model1,model2,model3,model4]:\n",
        "    train_accuracy = []\n",
        "    val_accuracy = []\n",
        "    for i,(train,val) in enumerate(k_fold.split(X,y)): \n",
        "        k.fit(X.iloc[train],y.iloc[train])\n",
        "        train_accuracy.append(k.score(X.iloc[train],y.iloc[train]))\n",
        "        val_accuracy.append(k.score(X.iloc[val],y.iloc[val]))\n",
        "    print(names[j])\n",
        "    j+=1\n",
        "    print(np.mean(train_accuracy),np.mean(val_accuracy))\n",
        "    fig = plt.figure()\n",
        "    fig.suptitle('Algorithm Comparison')\n",
        "    #ax = fig.add_subplot(111)\n",
        "    val_accuracy1=pd.DataFrame(val_accuracy)\n",
        "    val_accuracy1.plot(kind=\"box\",figsize = (10,7))\n",
        "    #plt.boxplot(val_accuracy)\n",
        "    #ax.set_xticklabels(names)\n",
        "    #plt.show()\n",
        "    #names1=pd.DataFrame(names)\n",
        "df_score=pd.DataFrame(data=[model_score_test,model_score_test1,model_score_test2,model_score_test3],\n",
        "                      index=[\"logistic\",\"Dtree\",\"KNN\",\"SVM\"],\n",
        "                      columns=['s1','s2','s3','s4','s5'])\n",
        "    "
      ],
      "execution_count": 0,
      "outputs": []
    },
    {
      "cell_type": "markdown",
      "metadata": {
        "id": "-u6P6_UhLNk5",
        "colab_type": "text"
      },
      "source": [
        "#### Confusion Matrix"
      ]
    },
    {
      "cell_type": "code",
      "metadata": {
        "id": "grQt5ohZLNk5",
        "colab_type": "code",
        "colab": {}
      },
      "source": [
        "for k in [model1,model2,model3,model4]:\n",
        "    train_predictions=k.predict(X_train)\n",
        "    test_predictions=k.predict(X_test)\n",
        "    train_conf_matrix=confusion_matrix(y_train,train_predictions)\n",
        "    test_conf_matrix=confusion_matrix(y_test,test_predictions)\n",
        "    print(pd.DataFrame(train_conf_matrix,columns=k.classes_,index=model.classes_))\n",
        "    print('\\n')"
      ],
      "execution_count": 0,
      "outputs": []
    },
    {
      "cell_type": "markdown",
      "metadata": {
        "id": "WGDzxtfULNk5",
        "colab_type": "text"
      },
      "source": [
        "##### Decision tree is the best model having least type 1 and type 2"
      ]
    },
    {
      "cell_type": "code",
      "metadata": {
        "id": "XuQeJ6pELNk5",
        "colab_type": "code",
        "colab": {}
      },
      "source": [
        ""
      ],
      "execution_count": 0,
      "outputs": []
    },
    {
      "cell_type": "code",
      "metadata": {
        "id": "r5tlSGXHLNk5",
        "colab_type": "code",
        "colab": {}
      },
      "source": [
        ""
      ],
      "execution_count": 0,
      "outputs": []
    }
  ]
}